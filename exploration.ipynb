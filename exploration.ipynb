{
 "cells": [
  {
   "cell_type": "markdown",
   "id": "7e9d8be1",
   "metadata": {},
   "source": [
    "# Explore (Exploratory Data Analysis or EDA) \n",
    "\n",
    "What is it?\n",
    "\n",
    "- We explore the interactions of the attributes and target variable\n",
    "- Pipeline: Plan - Acquire - Prepare - **Explore** - Model - Deliver\n",
    "\n",
    "What do we care?\n",
    "\n",
    "- Learn the vast majority of our takeaways and interesting stories from the data\n",
    "- This section of the pipeline allows us to provide business insights\n",
    "- This section determine which features to send into our model "
   ]
  },
  {
   "cell_type": "markdown",
   "id": "f7e5bdee",
   "metadata": {},
   "source": [
    "### Overall Process\n",
    "\n",
    "Acquire\n",
    "- get the data into a dataframe \n",
    "\n",
    "Prepare\n",
    "- perform univariate stats\n",
    "- clean up your data\n",
    "- encode your data\n",
    "- split your data\n",
    "\n",
    "Explore\n",
    "- work only with train data!!!!!!\n",
    "- explore features\n",
    "    - bivariate stats\n",
    "    - multivariate stats\n",
    "- final takeaways from this section\n",
    "\n",
    "Model\n",
    "- to be discussed!"
   ]
  },
  {
   "cell_type": "markdown",
   "id": "76e2c356",
   "metadata": {},
   "source": [
    "### Explore features process\n",
    "\n",
    "1. Hypothesize\n",
    "    - Write out your question about how your features interact with each other or with the target variable\n",
    "    - Write this in normal language (not a statistical hypotheses)\n",
    "\n",
    "\n",
    "2. Visualize\n",
    "    - Plot the features in your question\n",
    "    - Use the appropriate plot for your types of varibles (categorical vs continuous)\n",
    "\n",
    "\n",
    "3. Analyze (with statistics)\n",
    "    - Test your question with a statistical test\n",
    "    - Use the appropriate statistical tests for your types of varibles (categorical vs continuous)\n",
    "\n",
    "\n",
    "4. Summarize\n",
    "    - Write the takeaway from your question, plot, and stats test"
   ]
  },
  {
   "cell_type": "markdown",
   "id": "893e634b",
   "metadata": {},
   "source": [
    "### Guidance for explore features process\n",
    "\n",
    "1. Univariate Stats\n",
    "    - single variable\n",
    "    - histograms\n",
    "    - valuecounts\n",
    "    - look for normal distributions\n",
    "    - identify outliers\n",
    "    \n",
    "\n",
    "2. Bivariate Stats\n",
    "    - two variables\n",
    "    - plot the interactions of two variables\n",
    "\n",
    "\n",
    "3. Multivariate Stats \n",
    "    - more than 2 variables\n",
    "    - use color to represent a categorical variable\n",
    "    - ensure the plot selected is appropriate for the other variables\n",
    "\n",
    "\n",
    "4. Statistical Tests\n",
    "    - continuous to continuous: correlation\n",
    "    - categorical to categorical: chi^2 \n",
    "    - continuous to categorical: ttest or appropriate comparing means"
   ]
  },
  {
   "cell_type": "markdown",
   "id": "ffeec632",
   "metadata": {},
   "source": [
    "## Continue with the Titanic Dataset"
   ]
  },
  {
   "cell_type": "code",
   "execution_count": 1,
   "id": "29fc0e56",
   "metadata": {},
   "outputs": [],
   "source": [
    "#data wrangling imports\n",
    "import pandas as pd\n",
    "import numpy as np\n",
    "\n",
    "#vizualizations \n",
    "import matplotlib.pyplot as plt\n",
    "import seaborn as sns\n",
    "\n",
    "#stats\n",
    "from scipy import stats\n",
    "\n",
    "#my files\n",
    "import acquire\n",
    "import prepare"
   ]
  },
  {
   "cell_type": "markdown",
   "id": "3325990b",
   "metadata": {},
   "source": [
    "## Acquire"
   ]
  },
  {
   "cell_type": "code",
   "execution_count": 2,
   "id": "cf5cd8ec",
   "metadata": {},
   "outputs": [],
   "source": [
    "#get the data using my function in my acquire file\n",
    "titanic_df = acquire.get_titanic_data()"
   ]
  },
  {
   "cell_type": "code",
   "execution_count": 3,
   "id": "1664355f",
   "metadata": {},
   "outputs": [
    {
     "data": {
      "text/html": [
       "<div>\n",
       "<style scoped>\n",
       "    .dataframe tbody tr th:only-of-type {\n",
       "        vertical-align: middle;\n",
       "    }\n",
       "\n",
       "    .dataframe tbody tr th {\n",
       "        vertical-align: top;\n",
       "    }\n",
       "\n",
       "    .dataframe thead th {\n",
       "        text-align: right;\n",
       "    }\n",
       "</style>\n",
       "<table border=\"1\" class=\"dataframe\">\n",
       "  <thead>\n",
       "    <tr style=\"text-align: right;\">\n",
       "      <th></th>\n",
       "      <th>passenger_id</th>\n",
       "      <th>survived</th>\n",
       "      <th>pclass</th>\n",
       "      <th>sex</th>\n",
       "      <th>age</th>\n",
       "      <th>sibsp</th>\n",
       "      <th>parch</th>\n",
       "      <th>fare</th>\n",
       "      <th>embarked</th>\n",
       "      <th>class</th>\n",
       "      <th>deck</th>\n",
       "      <th>embark_town</th>\n",
       "      <th>alone</th>\n",
       "    </tr>\n",
       "  </thead>\n",
       "  <tbody>\n",
       "    <tr>\n",
       "      <th>0</th>\n",
       "      <td>0</td>\n",
       "      <td>0</td>\n",
       "      <td>3</td>\n",
       "      <td>male</td>\n",
       "      <td>22.0</td>\n",
       "      <td>1</td>\n",
       "      <td>0</td>\n",
       "      <td>7.2500</td>\n",
       "      <td>S</td>\n",
       "      <td>Third</td>\n",
       "      <td>NaN</td>\n",
       "      <td>Southampton</td>\n",
       "      <td>0</td>\n",
       "    </tr>\n",
       "    <tr>\n",
       "      <th>1</th>\n",
       "      <td>1</td>\n",
       "      <td>1</td>\n",
       "      <td>1</td>\n",
       "      <td>female</td>\n",
       "      <td>38.0</td>\n",
       "      <td>1</td>\n",
       "      <td>0</td>\n",
       "      <td>71.2833</td>\n",
       "      <td>C</td>\n",
       "      <td>First</td>\n",
       "      <td>C</td>\n",
       "      <td>Cherbourg</td>\n",
       "      <td>0</td>\n",
       "    </tr>\n",
       "    <tr>\n",
       "      <th>2</th>\n",
       "      <td>2</td>\n",
       "      <td>1</td>\n",
       "      <td>3</td>\n",
       "      <td>female</td>\n",
       "      <td>26.0</td>\n",
       "      <td>0</td>\n",
       "      <td>0</td>\n",
       "      <td>7.9250</td>\n",
       "      <td>S</td>\n",
       "      <td>Third</td>\n",
       "      <td>NaN</td>\n",
       "      <td>Southampton</td>\n",
       "      <td>1</td>\n",
       "    </tr>\n",
       "    <tr>\n",
       "      <th>3</th>\n",
       "      <td>3</td>\n",
       "      <td>1</td>\n",
       "      <td>1</td>\n",
       "      <td>female</td>\n",
       "      <td>35.0</td>\n",
       "      <td>1</td>\n",
       "      <td>0</td>\n",
       "      <td>53.1000</td>\n",
       "      <td>S</td>\n",
       "      <td>First</td>\n",
       "      <td>C</td>\n",
       "      <td>Southampton</td>\n",
       "      <td>0</td>\n",
       "    </tr>\n",
       "    <tr>\n",
       "      <th>4</th>\n",
       "      <td>4</td>\n",
       "      <td>0</td>\n",
       "      <td>3</td>\n",
       "      <td>male</td>\n",
       "      <td>35.0</td>\n",
       "      <td>0</td>\n",
       "      <td>0</td>\n",
       "      <td>8.0500</td>\n",
       "      <td>S</td>\n",
       "      <td>Third</td>\n",
       "      <td>NaN</td>\n",
       "      <td>Southampton</td>\n",
       "      <td>1</td>\n",
       "    </tr>\n",
       "  </tbody>\n",
       "</table>\n",
       "</div>"
      ],
      "text/plain": [
       "   passenger_id  survived  pclass     sex   age  sibsp  parch     fare  \\\n",
       "0             0         0       3    male  22.0      1      0   7.2500   \n",
       "1             1         1       1  female  38.0      1      0  71.2833   \n",
       "2             2         1       3  female  26.0      0      0   7.9250   \n",
       "3             3         1       1  female  35.0      1      0  53.1000   \n",
       "4             4         0       3    male  35.0      0      0   8.0500   \n",
       "\n",
       "  embarked  class deck  embark_town  alone  \n",
       "0        S  Third  NaN  Southampton      0  \n",
       "1        C  First    C    Cherbourg      0  \n",
       "2        S  Third  NaN  Southampton      1  \n",
       "3        S  First    C  Southampton      0  \n",
       "4        S  Third  NaN  Southampton      1  "
      ]
     },
     "execution_count": 3,
     "metadata": {},
     "output_type": "execute_result"
    }
   ],
   "source": [
    "#look at it\n",
    "titanic_df.head()"
   ]
  },
  {
   "cell_type": "code",
   "execution_count": 4,
   "id": "9ec803fa",
   "metadata": {},
   "outputs": [
    {
     "name": "stdout",
     "output_type": "stream",
     "text": [
      "<class 'pandas.core.frame.DataFrame'>\n",
      "Int64Index: 891 entries, 0 to 890\n",
      "Data columns (total 13 columns):\n",
      " #   Column        Non-Null Count  Dtype  \n",
      "---  ------        --------------  -----  \n",
      " 0   passenger_id  891 non-null    int64  \n",
      " 1   survived      891 non-null    int64  \n",
      " 2   pclass        891 non-null    int64  \n",
      " 3   sex           891 non-null    object \n",
      " 4   age           714 non-null    float64\n",
      " 5   sibsp         891 non-null    int64  \n",
      " 6   parch         891 non-null    int64  \n",
      " 7   fare          891 non-null    float64\n",
      " 8   embarked      889 non-null    object \n",
      " 9   class         891 non-null    object \n",
      " 10  deck          203 non-null    object \n",
      " 11  embark_town   889 non-null    object \n",
      " 12  alone         891 non-null    int64  \n",
      "dtypes: float64(2), int64(6), object(5)\n",
      "memory usage: 97.5+ KB\n"
     ]
    }
   ],
   "source": [
    "titanic_df.info()"
   ]
  },
  {
   "cell_type": "markdown",
   "id": "1f656d52",
   "metadata": {},
   "source": [
    "## Prepare"
   ]
  },
  {
   "cell_type": "code",
   "execution_count": 5,
   "id": "0df668f5",
   "metadata": {},
   "outputs": [],
   "source": [
    "#clean and split my data using my function in my prepare file\n",
    "train, validate, test =  prepare.prep_titanic_data(titanic_df)"
   ]
  },
  {
   "cell_type": "code",
   "execution_count": 6,
   "id": "00b20c8c",
   "metadata": {},
   "outputs": [
    {
     "data": {
      "text/html": [
       "<div>\n",
       "<style scoped>\n",
       "    .dataframe tbody tr th:only-of-type {\n",
       "        vertical-align: middle;\n",
       "    }\n",
       "\n",
       "    .dataframe tbody tr th {\n",
       "        vertical-align: top;\n",
       "    }\n",
       "\n",
       "    .dataframe thead th {\n",
       "        text-align: right;\n",
       "    }\n",
       "</style>\n",
       "<table border=\"1\" class=\"dataframe\">\n",
       "  <thead>\n",
       "    <tr style=\"text-align: right;\">\n",
       "      <th></th>\n",
       "      <th>survived</th>\n",
       "      <th>pclass</th>\n",
       "      <th>sex</th>\n",
       "      <th>age</th>\n",
       "      <th>sibsp</th>\n",
       "      <th>parch</th>\n",
       "      <th>fare</th>\n",
       "      <th>embark_town</th>\n",
       "      <th>alone</th>\n",
       "      <th>sex_male</th>\n",
       "      <th>embark_town_Queenstown</th>\n",
       "      <th>embark_town_Southampton</th>\n",
       "    </tr>\n",
       "  </thead>\n",
       "  <tbody>\n",
       "    <tr>\n",
       "      <th>583</th>\n",
       "      <td>0</td>\n",
       "      <td>1</td>\n",
       "      <td>male</td>\n",
       "      <td>36.000000</td>\n",
       "      <td>0</td>\n",
       "      <td>0</td>\n",
       "      <td>40.1250</td>\n",
       "      <td>Cherbourg</td>\n",
       "      <td>1</td>\n",
       "      <td>1</td>\n",
       "      <td>0</td>\n",
       "      <td>0</td>\n",
       "    </tr>\n",
       "    <tr>\n",
       "      <th>165</th>\n",
       "      <td>1</td>\n",
       "      <td>3</td>\n",
       "      <td>male</td>\n",
       "      <td>9.000000</td>\n",
       "      <td>0</td>\n",
       "      <td>2</td>\n",
       "      <td>20.5250</td>\n",
       "      <td>Southampton</td>\n",
       "      <td>0</td>\n",
       "      <td>1</td>\n",
       "      <td>0</td>\n",
       "      <td>1</td>\n",
       "    </tr>\n",
       "    <tr>\n",
       "      <th>50</th>\n",
       "      <td>0</td>\n",
       "      <td>3</td>\n",
       "      <td>male</td>\n",
       "      <td>7.000000</td>\n",
       "      <td>4</td>\n",
       "      <td>1</td>\n",
       "      <td>39.6875</td>\n",
       "      <td>Southampton</td>\n",
       "      <td>0</td>\n",
       "      <td>1</td>\n",
       "      <td>0</td>\n",
       "      <td>1</td>\n",
       "    </tr>\n",
       "    <tr>\n",
       "      <th>259</th>\n",
       "      <td>1</td>\n",
       "      <td>2</td>\n",
       "      <td>female</td>\n",
       "      <td>50.000000</td>\n",
       "      <td>0</td>\n",
       "      <td>1</td>\n",
       "      <td>26.0000</td>\n",
       "      <td>Southampton</td>\n",
       "      <td>0</td>\n",
       "      <td>0</td>\n",
       "      <td>0</td>\n",
       "      <td>1</td>\n",
       "    </tr>\n",
       "    <tr>\n",
       "      <th>306</th>\n",
       "      <td>1</td>\n",
       "      <td>1</td>\n",
       "      <td>female</td>\n",
       "      <td>29.678105</td>\n",
       "      <td>0</td>\n",
       "      <td>0</td>\n",
       "      <td>110.8833</td>\n",
       "      <td>Cherbourg</td>\n",
       "      <td>1</td>\n",
       "      <td>0</td>\n",
       "      <td>0</td>\n",
       "      <td>0</td>\n",
       "    </tr>\n",
       "  </tbody>\n",
       "</table>\n",
       "</div>"
      ],
      "text/plain": [
       "     survived  pclass     sex        age  sibsp  parch      fare  embark_town  \\\n",
       "583         0       1    male  36.000000      0      0   40.1250    Cherbourg   \n",
       "165         1       3    male   9.000000      0      2   20.5250  Southampton   \n",
       "50          0       3    male   7.000000      4      1   39.6875  Southampton   \n",
       "259         1       2  female  50.000000      0      1   26.0000  Southampton   \n",
       "306         1       1  female  29.678105      0      0  110.8833    Cherbourg   \n",
       "\n",
       "     alone  sex_male  embark_town_Queenstown  embark_town_Southampton  \n",
       "583      1         1                       0                        0  \n",
       "165      0         1                       0                        1  \n",
       "50       0         1                       0                        1  \n",
       "259      0         0                       0                        1  \n",
       "306      1         0                       0                        0  "
      ]
     },
     "execution_count": 6,
     "metadata": {},
     "output_type": "execute_result"
    }
   ],
   "source": [
    "train.head()"
   ]
  },
  {
   "cell_type": "markdown",
   "id": "f18c3b26",
   "metadata": {},
   "source": [
    "### Univariate Stats"
   ]
  },
  {
   "cell_type": "code",
   "execution_count": 7,
   "id": "d9601d7c",
   "metadata": {},
   "outputs": [
    {
     "name": "stdout",
     "output_type": "stream",
     "text": [
      "survived\n",
      "pclass\n",
      "sex\n",
      "age\n",
      "sibsp\n",
      "parch\n",
      "fare\n",
      "embark_town\n",
      "alone\n"
     ]
    }
   ],
   "source": [
    "col_cat = [] #this is for my categorical varibles\n",
    "col_num = [] #this is for my numeric varibles\n",
    "\n",
    "for col in train.columns[:-3]:\n",
    "    print(col)\n",
    "    if train[col].dtype == 'O':\n",
    "        col_cat.append(col)\n",
    "    else:\n",
    "        if len(train[col].unique()) < 4: #making anything with less than 4 unique values a catergorical value\n",
    "            col_cat.append(col)\n",
    "        else:\n",
    "            col_num.append(col)"
   ]
  },
  {
   "cell_type": "code",
   "execution_count": 8,
   "id": "52b8bf7f",
   "metadata": {},
   "outputs": [
    {
     "data": {
      "text/plain": [
       "['survived', 'pclass', 'sex', 'embark_town', 'alone']"
      ]
     },
     "execution_count": 8,
     "metadata": {},
     "output_type": "execute_result"
    }
   ],
   "source": [
    "col_cat"
   ]
  },
  {
   "cell_type": "code",
   "execution_count": 9,
   "id": "01ecab30",
   "metadata": {},
   "outputs": [
    {
     "data": {
      "text/plain": [
       "['age', 'sibsp', 'parch', 'fare']"
      ]
     },
     "execution_count": 9,
     "metadata": {},
     "output_type": "execute_result"
    }
   ],
   "source": [
    "col_num"
   ]
  },
  {
   "cell_type": "markdown",
   "id": "7d2b86bb",
   "metadata": {},
   "source": [
    "#### categorical variables"
   ]
  },
  {
   "cell_type": "code",
   "execution_count": 10,
   "id": "5b9891ea",
   "metadata": {
    "scrolled": false
   },
   "outputs": [
    {
     "name": "stdout",
     "output_type": "stream",
     "text": [
      "SURVIVED\n",
      "0    307\n",
      "1    191\n",
      "Name: survived, dtype: int64\n",
      "0    0.616466\n",
      "1    0.383534\n",
      "Name: survived, dtype: float64\n"
     ]
    },
    {
     "data": {
      "image/png": "[encoded data removed]",
      "text/plain": [
       "<Figure size 432x288 with 1 Axes>"
      ]
     },
     "metadata": {
      "needs_background": "light"
     },
     "output_type": "display_data"
    },
    {
     "name": "stdout",
     "output_type": "stream",
     "text": [
      "\n",
      "PCLASS\n",
      "3    269\n",
      "1    117\n",
      "2    112\n",
      "Name: pclass, dtype: int64\n",
      "3    0.540161\n",
      "1    0.234940\n",
      "2    0.224900\n",
      "Name: pclass, dtype: float64\n"
     ]
    },
    {
     "data": {
      "image/png": "[encoded data removed]",
      "text/plain": [
       "<Figure size 432x288 with 1 Axes>"
      ]
     },
     "metadata": {
      "needs_background": "light"
     },
     "output_type": "display_data"
    },
    {
     "name": "stdout",
     "output_type": "stream",
     "text": [
      "\n",
      "SEX\n",
      "male      323\n",
      "female    175\n",
      "Name: sex, dtype: int64\n",
      "male      0.648594\n",
      "female    0.351406\n",
      "Name: sex, dtype: float64\n"
     ]
    },
    {
     "data": {
      "image/png": "[encoded data removed]",
      "text/plain": [
       "<Figure size 432x288 with 1 Axes>"
      ]
     },
     "metadata": {
      "needs_background": "light"
     },
     "output_type": "display_data"
    },
    {
     "name": "stdout",
     "output_type": "stream",
     "text": [
      "\n",
      "EMBARK_TOWN\n",
      "Southampton    355\n",
      "Cherbourg      102\n",
      "Queenstown      41\n",
      "Name: embark_town, dtype: int64\n",
      "Southampton    0.712851\n",
      "Cherbourg      0.204819\n",
      "Queenstown     0.082329\n",
      "Name: embark_town, dtype: float64\n"
     ]
    },
    {
     "data": {
      "image/png": "[encoded data removed]",
      "text/plain": [
       "<Figure size 432x288 with 1 Axes>"
      ]
     },
     "metadata": {
      "needs_background": "light"
     },
     "output_type": "display_data"
    },
    {
     "name": "stdout",
     "output_type": "stream",
     "text": [
      "\n",
      "ALONE\n",
      "1    315\n",
      "0    183\n",
      "Name: alone, dtype: int64\n",
      "1    0.63253\n",
      "0    0.36747\n",
      "Name: alone, dtype: float64\n"
     ]
    },
    {
     "data": {
      "image/png": "[encoded data removed]",
      "text/plain": [
       "<Figure size 432x288 with 1 Axes>"
      ]
     },
     "metadata": {
      "needs_background": "light"
     },
     "output_type": "display_data"
    },
    {
     "name": "stdout",
     "output_type": "stream",
     "text": [
      "\n"
     ]
    }
   ],
   "source": [
    "for col in col_cat:\n",
    "    print(col.upper())\n",
    "    print(train[col].value_counts())\n",
    "    print(train[col].value_counts(normalize=True))\n",
    "    sns.countplot(x=col, data=train)\n",
    "    plt.show()\n",
    "    print()"
   ]
  },
  {
   "cell_type": "markdown",
   "id": "5b7f33ec",
   "metadata": {},
   "source": [
    "Takeaways\n",
    "- there are no noteable issues\n",
    "- these do appear to be categorical variables\n",
    "- survived\n",
    "    - target variable\n",
    "    - more people died than survived\n",
    "        - 61% did not survive\n",
    "- pclass\n",
    "    - over half of the passengers are 3rd class\n",
    "    - 1st and 2nd class have about the same number of passengers\n",
    "- sex\n",
    "    - about 65% of the passengers are male\n",
    "- embark_town\n",
    "    - most of the passengers boarded from Southampton\n",
    "- alone\n",
    "    - 63% of passengers were traveling alone"
   ]
  },
  {
   "cell_type": "markdown",
   "id": "feb9b9bd",
   "metadata": {},
   "source": [
    "#### numeric variables"
   ]
  },
  {
   "cell_type": "code",
   "execution_count": 11,
   "id": "11529ec0",
   "metadata": {
    "scrolled": false
   },
   "outputs": [
    {
     "name": "stdout",
     "output_type": "stream",
     "text": [
      "AGE\n",
      "29.678105    97\n",
      "28.000000    19\n",
      "18.000000    17\n",
      "24.000000    17\n",
      "25.000000    16\n",
      "             ..\n",
      "0.830000      1\n",
      "64.000000     1\n",
      "59.000000     1\n",
      "36.500000     1\n",
      "34.500000     1\n",
      "Name: age, Length: 80, dtype: int64\n",
      "AxesSubplot(0.125,0.125;0.775x0.755)\n"
     ]
    },
    {
     "data": {
      "image/png": "[encoded data removed]",
      "text/plain": [
       "<Figure size 432x288 with 1 Axes>"
      ]
     },
     "metadata": {
      "needs_background": "light"
     },
     "output_type": "display_data"
    },
    {
     "name": "stdout",
     "output_type": "stream",
     "text": [
      "SIBSP\n",
      "0    357\n",
      "1     96\n",
      "2     21\n",
      "3      9\n",
      "4      8\n",
      "8      5\n",
      "5      2\n",
      "Name: sibsp, dtype: int64\n",
      "AxesSubplot(0.125,0.125;0.775x0.755)\n"
     ]
    },
    {
     "data": {
      "image/png": "[encoded data removed]",
      "text/plain": [
       "<Figure size 432x288 with 1 Axes>"
      ]
     },
     "metadata": {
      "needs_background": "light"
     },
     "output_type": "display_data"
    },
    {
     "name": "stdout",
     "output_type": "stream",
     "text": [
      "PARCH\n",
      "0    385\n",
      "1     65\n",
      "2     40\n",
      "3      4\n",
      "5      3\n",
      "4      1\n",
      "Name: parch, dtype: int64\n",
      "AxesSubplot(0.125,0.125;0.775x0.755)\n"
     ]
    },
    {
     "data": {
      "image/png": "[encoded data removed]",
      "text/plain": [
       "<Figure size 432x288 with 1 Axes>"
      ]
     },
     "metadata": {
      "needs_background": "light"
     },
     "output_type": "display_data"
    },
    {
     "name": "stdout",
     "output_type": "stream",
     "text": [
      "FARE\n",
      "13.0000     27\n",
      "8.0500      24\n",
      "7.8958      23\n",
      "7.7500      20\n",
      "26.0000     17\n",
      "            ..\n",
      "7.8875       1\n",
      "6.4958       1\n",
      "9.3500       1\n",
      "14.4000      1\n",
      "512.3292     1\n",
      "Name: fare, Length: 189, dtype: int64\n",
      "AxesSubplot(0.125,0.125;0.775x0.755)\n"
     ]
    },
    {
     "data": {
      "image/png": "[encoded data removed]",
      "text/plain": [
       "<Figure size 432x288 with 1 Axes>"
      ]
     },
     "metadata": {
      "needs_background": "light"
     },
     "output_type": "display_data"
    }
   ],
   "source": [
    "for col in col_num:\n",
    "    print(col.upper())\n",
    "    print(train[col].value_counts())\n",
    "    print(train[col].hist())\n",
    "    plt.show()"
   ]
  },
  {
   "cell_type": "markdown",
   "id": "26760ed0",
   "metadata": {},
   "source": [
    "Takeaways\n",
    "- fare is not a normal distribution \n",
    "    - in the future, we could bin higher values, and see if it is normally distributed\n",
    "- sibsp and parch has some outliers\n",
    "- sibsp and parch also seem to be discrete values, so we may want to treat them as such"
   ]
  },
  {
   "cell_type": "markdown",
   "id": "64617799",
   "metadata": {},
   "source": [
    "### Bivariate Stats\n",
    "-USE TRAIN DATASET ONLY-\n",
    "\n",
    "1. Hypothesize\n",
    "2. Visualize\n",
    "3. Analyze (with statistics)\n",
    "4. Summarize"
   ]
  },
  {
   "cell_type": "code",
   "execution_count": 12,
   "id": "82a3722c",
   "metadata": {},
   "outputs": [
    {
     "data": {
      "text/html": [
       "<div>\n",
       "<style scoped>\n",
       "    .dataframe tbody tr th:only-of-type {\n",
       "        vertical-align: middle;\n",
       "    }\n",
       "\n",
       "    .dataframe tbody tr th {\n",
       "        vertical-align: top;\n",
       "    }\n",
       "\n",
       "    .dataframe thead th {\n",
       "        text-align: right;\n",
       "    }\n",
       "</style>\n",
       "<table border=\"1\" class=\"dataframe\">\n",
       "  <thead>\n",
       "    <tr style=\"text-align: right;\">\n",
       "      <th></th>\n",
       "      <th>survived</th>\n",
       "      <th>pclass</th>\n",
       "      <th>sex</th>\n",
       "      <th>age</th>\n",
       "      <th>sibsp</th>\n",
       "      <th>parch</th>\n",
       "      <th>fare</th>\n",
       "      <th>embark_town</th>\n",
       "      <th>alone</th>\n",
       "      <th>sex_male</th>\n",
       "      <th>embark_town_Queenstown</th>\n",
       "      <th>embark_town_Southampton</th>\n",
       "    </tr>\n",
       "  </thead>\n",
       "  <tbody>\n",
       "    <tr>\n",
       "      <th>583</th>\n",
       "      <td>0</td>\n",
       "      <td>1</td>\n",
       "      <td>male</td>\n",
       "      <td>36.000000</td>\n",
       "      <td>0</td>\n",
       "      <td>0</td>\n",
       "      <td>40.1250</td>\n",
       "      <td>Cherbourg</td>\n",
       "      <td>1</td>\n",
       "      <td>1</td>\n",
       "      <td>0</td>\n",
       "      <td>0</td>\n",
       "    </tr>\n",
       "    <tr>\n",
       "      <th>165</th>\n",
       "      <td>1</td>\n",
       "      <td>3</td>\n",
       "      <td>male</td>\n",
       "      <td>9.000000</td>\n",
       "      <td>0</td>\n",
       "      <td>2</td>\n",
       "      <td>20.5250</td>\n",
       "      <td>Southampton</td>\n",
       "      <td>0</td>\n",
       "      <td>1</td>\n",
       "      <td>0</td>\n",
       "      <td>1</td>\n",
       "    </tr>\n",
       "    <tr>\n",
       "      <th>50</th>\n",
       "      <td>0</td>\n",
       "      <td>3</td>\n",
       "      <td>male</td>\n",
       "      <td>7.000000</td>\n",
       "      <td>4</td>\n",
       "      <td>1</td>\n",
       "      <td>39.6875</td>\n",
       "      <td>Southampton</td>\n",
       "      <td>0</td>\n",
       "      <td>1</td>\n",
       "      <td>0</td>\n",
       "      <td>1</td>\n",
       "    </tr>\n",
       "    <tr>\n",
       "      <th>259</th>\n",
       "      <td>1</td>\n",
       "      <td>2</td>\n",
       "      <td>female</td>\n",
       "      <td>50.000000</td>\n",
       "      <td>0</td>\n",
       "      <td>1</td>\n",
       "      <td>26.0000</td>\n",
       "      <td>Southampton</td>\n",
       "      <td>0</td>\n",
       "      <td>0</td>\n",
       "      <td>0</td>\n",
       "      <td>1</td>\n",
       "    </tr>\n",
       "    <tr>\n",
       "      <th>306</th>\n",
       "      <td>1</td>\n",
       "      <td>1</td>\n",
       "      <td>female</td>\n",
       "      <td>29.678105</td>\n",
       "      <td>0</td>\n",
       "      <td>0</td>\n",
       "      <td>110.8833</td>\n",
       "      <td>Cherbourg</td>\n",
       "      <td>1</td>\n",
       "      <td>0</td>\n",
       "      <td>0</td>\n",
       "      <td>0</td>\n",
       "    </tr>\n",
       "  </tbody>\n",
       "</table>\n",
       "</div>"
      ],
      "text/plain": [
       "     survived  pclass     sex        age  sibsp  parch      fare  embark_town  \\\n",
       "583         0       1    male  36.000000      0      0   40.1250    Cherbourg   \n",
       "165         1       3    male   9.000000      0      2   20.5250  Southampton   \n",
       "50          0       3    male   7.000000      4      1   39.6875  Southampton   \n",
       "259         1       2  female  50.000000      0      1   26.0000  Southampton   \n",
       "306         1       1  female  29.678105      0      0  110.8833    Cherbourg   \n",
       "\n",
       "     alone  sex_male  embark_town_Queenstown  embark_town_Southampton  \n",
       "583      1         1                       0                        0  \n",
       "165      0         1                       0                        1  \n",
       "50       0         1                       0                        1  \n",
       "259      0         0                       0                        1  \n",
       "306      1         0                       0                        0  "
      ]
     },
     "execution_count": 12,
     "metadata": {},
     "output_type": "execute_result"
    }
   ],
   "source": [
    "train.head()"
   ]
  },
  {
   "cell_type": "markdown",
   "id": "3d8dc5b8",
   "metadata": {},
   "source": [
    "#### 1. Hypothesize"
   ]
  },
  {
   "cell_type": "markdown",
   "id": "df35bc3c",
   "metadata": {},
   "source": [
    "Q: does pclass affect whether or not someone survived?\n",
    "\n",
    "what type of variables am i comparing?\n",
    "- pclass: categorical\n",
    "- survived: categorical "
   ]
  },
  {
   "cell_type": "markdown",
   "id": "223817b1",
   "metadata": {},
   "source": [
    "#### 2. Visualize\n",
    "\n",
    "what type of plot can i use for this?\n",
    "- barplot"
   ]
  },
  {
   "cell_type": "code",
   "execution_count": 13,
   "id": "79a21c55",
   "metadata": {},
   "outputs": [
    {
     "data": {
      "image/png": "[encoded data removed]",
      "text/plain": [
       "<Figure size 432x288 with 1 Axes>"
      ]
     },
     "metadata": {
      "needs_background": "light"
     },
     "output_type": "display_data"
    }
   ],
   "source": [
    "sns.barplot(data=train, x='pclass', y='survived')\n",
    "plt.show()"
   ]
  },
  {
   "cell_type": "markdown",
   "id": "bf097dc2",
   "metadata": {},
   "source": [
    "#### 3. Analyze (with stats)"
   ]
  },
  {
   "cell_type": "markdown",
   "id": "d19b4dec",
   "metadata": {},
   "source": [
    "what type of stats test should i use for this?\n",
    "- chi^2\n",
    "\n",
    "\n",
    "$H_0$: pclass is independent of survived\n",
    "\n",
    "$H_a$: pclass is dependent on survived\n",
    "\n",
    "alpha = 0.05"
   ]
  },
  {
   "cell_type": "code",
   "execution_count": 14,
   "id": "558641d1",
   "metadata": {},
   "outputs": [
    {
     "data": {
      "text/html": [
       "<div>\n",
       "<style scoped>\n",
       "    .dataframe tbody tr th:only-of-type {\n",
       "        vertical-align: middle;\n",
       "    }\n",
       "\n",
       "    .dataframe tbody tr th {\n",
       "        vertical-align: top;\n",
       "    }\n",
       "\n",
       "    .dataframe thead th {\n",
       "        text-align: right;\n",
       "    }\n",
       "</style>\n",
       "<table border=\"1\" class=\"dataframe\">\n",
       "  <thead>\n",
       "    <tr style=\"text-align: right;\">\n",
       "      <th>survived</th>\n",
       "      <th>0</th>\n",
       "      <th>1</th>\n",
       "    </tr>\n",
       "    <tr>\n",
       "      <th>pclass</th>\n",
       "      <th></th>\n",
       "      <th></th>\n",
       "    </tr>\n",
       "  </thead>\n",
       "  <tbody>\n",
       "    <tr>\n",
       "      <th>1</th>\n",
       "      <td>46</td>\n",
       "      <td>71</td>\n",
       "    </tr>\n",
       "    <tr>\n",
       "      <th>2</th>\n",
       "      <td>56</td>\n",
       "      <td>56</td>\n",
       "    </tr>\n",
       "    <tr>\n",
       "      <th>3</th>\n",
       "      <td>205</td>\n",
       "      <td>64</td>\n",
       "    </tr>\n",
       "  </tbody>\n",
       "</table>\n",
       "</div>"
      ],
      "text/plain": [
       "survived    0   1\n",
       "pclass           \n",
       "1          46  71\n",
       "2          56  56\n",
       "3         205  64"
      ]
     },
     "execution_count": 14,
     "metadata": {},
     "output_type": "execute_result"
    }
   ],
   "source": [
    "#only using my train dataset\n",
    "observed = pd.crosstab(train.pclass, train.survived)\n",
    "observed"
   ]
  },
  {
   "cell_type": "code",
   "execution_count": 15,
   "id": "2e1a02d1",
   "metadata": {},
   "outputs": [],
   "source": [
    "chi2, p, degf, expected = stats.chi2_contingency(observed)"
   ]
  },
  {
   "cell_type": "code",
   "execution_count": 16,
   "id": "67f17af6",
   "metadata": {},
   "outputs": [
    {
     "data": {
      "text/plain": [
       "1.018577101089497e-12"
      ]
     },
     "execution_count": 16,
     "metadata": {},
     "output_type": "execute_result"
    }
   ],
   "source": [
    "p"
   ]
  },
  {
   "cell_type": "markdown",
   "id": "ff70e8e9",
   "metadata": {},
   "source": [
    "The p-value is less than alpha, therefore, we reject the null hypothesis"
   ]
  },
  {
   "cell_type": "markdown",
   "id": "d9dd2a8b",
   "metadata": {},
   "source": [
    "#### 4. Summarize"
   ]
  },
  {
   "cell_type": "markdown",
   "id": "4b5eb351",
   "metadata": {},
   "source": [
    "There IS a relationship between the passenger class (pclass) and whether or not they survived. "
   ]
  },
  {
   "cell_type": "markdown",
   "id": "fdd39c2a",
   "metadata": {},
   "source": [
    "### Repeat"
   ]
  },
  {
   "cell_type": "code",
   "execution_count": 17,
   "id": "636ccd02",
   "metadata": {},
   "outputs": [
    {
     "data": {
      "text/html": [
       "<div>\n",
       "<style scoped>\n",
       "    .dataframe tbody tr th:only-of-type {\n",
       "        vertical-align: middle;\n",
       "    }\n",
       "\n",
       "    .dataframe tbody tr th {\n",
       "        vertical-align: top;\n",
       "    }\n",
       "\n",
       "    .dataframe thead th {\n",
       "        text-align: right;\n",
       "    }\n",
       "</style>\n",
       "<table border=\"1\" class=\"dataframe\">\n",
       "  <thead>\n",
       "    <tr style=\"text-align: right;\">\n",
       "      <th></th>\n",
       "      <th>survived</th>\n",
       "      <th>pclass</th>\n",
       "      <th>sex</th>\n",
       "      <th>age</th>\n",
       "      <th>sibsp</th>\n",
       "      <th>parch</th>\n",
       "      <th>fare</th>\n",
       "      <th>embark_town</th>\n",
       "      <th>alone</th>\n",
       "      <th>sex_male</th>\n",
       "      <th>embark_town_Queenstown</th>\n",
       "      <th>embark_town_Southampton</th>\n",
       "    </tr>\n",
       "  </thead>\n",
       "  <tbody>\n",
       "    <tr>\n",
       "      <th>583</th>\n",
       "      <td>0</td>\n",
       "      <td>1</td>\n",
       "      <td>male</td>\n",
       "      <td>36.000000</td>\n",
       "      <td>0</td>\n",
       "      <td>0</td>\n",
       "      <td>40.1250</td>\n",
       "      <td>Cherbourg</td>\n",
       "      <td>1</td>\n",
       "      <td>1</td>\n",
       "      <td>0</td>\n",
       "      <td>0</td>\n",
       "    </tr>\n",
       "    <tr>\n",
       "      <th>165</th>\n",
       "      <td>1</td>\n",
       "      <td>3</td>\n",
       "      <td>male</td>\n",
       "      <td>9.000000</td>\n",
       "      <td>0</td>\n",
       "      <td>2</td>\n",
       "      <td>20.5250</td>\n",
       "      <td>Southampton</td>\n",
       "      <td>0</td>\n",
       "      <td>1</td>\n",
       "      <td>0</td>\n",
       "      <td>1</td>\n",
       "    </tr>\n",
       "    <tr>\n",
       "      <th>50</th>\n",
       "      <td>0</td>\n",
       "      <td>3</td>\n",
       "      <td>male</td>\n",
       "      <td>7.000000</td>\n",
       "      <td>4</td>\n",
       "      <td>1</td>\n",
       "      <td>39.6875</td>\n",
       "      <td>Southampton</td>\n",
       "      <td>0</td>\n",
       "      <td>1</td>\n",
       "      <td>0</td>\n",
       "      <td>1</td>\n",
       "    </tr>\n",
       "    <tr>\n",
       "      <th>259</th>\n",
       "      <td>1</td>\n",
       "      <td>2</td>\n",
       "      <td>female</td>\n",
       "      <td>50.000000</td>\n",
       "      <td>0</td>\n",
       "      <td>1</td>\n",
       "      <td>26.0000</td>\n",
       "      <td>Southampton</td>\n",
       "      <td>0</td>\n",
       "      <td>0</td>\n",
       "      <td>0</td>\n",
       "      <td>1</td>\n",
       "    </tr>\n",
       "    <tr>\n",
       "      <th>306</th>\n",
       "      <td>1</td>\n",
       "      <td>1</td>\n",
       "      <td>female</td>\n",
       "      <td>29.678105</td>\n",
       "      <td>0</td>\n",
       "      <td>0</td>\n",
       "      <td>110.8833</td>\n",
       "      <td>Cherbourg</td>\n",
       "      <td>1</td>\n",
       "      <td>0</td>\n",
       "      <td>0</td>\n",
       "      <td>0</td>\n",
       "    </tr>\n",
       "  </tbody>\n",
       "</table>\n",
       "</div>"
      ],
      "text/plain": [
       "     survived  pclass     sex        age  sibsp  parch      fare  embark_town  \\\n",
       "583         0       1    male  36.000000      0      0   40.1250    Cherbourg   \n",
       "165         1       3    male   9.000000      0      2   20.5250  Southampton   \n",
       "50          0       3    male   7.000000      4      1   39.6875  Southampton   \n",
       "259         1       2  female  50.000000      0      1   26.0000  Southampton   \n",
       "306         1       1  female  29.678105      0      0  110.8833    Cherbourg   \n",
       "\n",
       "     alone  sex_male  embark_town_Queenstown  embark_town_Southampton  \n",
       "583      1         1                       0                        0  \n",
       "165      0         1                       0                        1  \n",
       "50       0         1                       0                        1  \n",
       "259      0         0                       0                        1  \n",
       "306      1         0                       0                        0  "
      ]
     },
     "execution_count": 17,
     "metadata": {},
     "output_type": "execute_result"
    }
   ],
   "source": [
    "train.head()"
   ]
  },
  {
   "cell_type": "markdown",
   "id": "f7dafc5b",
   "metadata": {},
   "source": [
    "#### 1. Hypothesize"
   ]
  },
  {
   "cell_type": "markdown",
   "id": "327fdd77",
   "metadata": {},
   "source": [
    "Q: does fare incidate whether or not someone survived? "
   ]
  },
  {
   "cell_type": "markdown",
   "id": "5f125628",
   "metadata": {},
   "source": [
    "what type of variables am i comparing?\n",
    "- fare is continuous\n",
    "- survived is categorical"
   ]
  },
  {
   "cell_type": "markdown",
   "id": "5564c017",
   "metadata": {},
   "source": [
    "#### 2. Visualize"
   ]
  },
  {
   "cell_type": "markdown",
   "id": "aea002dc",
   "metadata": {},
   "source": [
    "what kind of plot can i use? \n",
    "- boxplot\n",
    "- swarmplot\n",
    "- violinplot\n",
    "- stripplot "
   ]
  },
  {
   "cell_type": "code",
   "execution_count": 18,
   "id": "256a85d3",
   "metadata": {},
   "outputs": [
    {
     "data": {
      "image/png": "[encoded data removed]",
      "text/plain": [
       "<Figure size 432x288 with 1 Axes>"
      ]
     },
     "metadata": {
      "needs_background": "light"
     },
     "output_type": "display_data"
    }
   ],
   "source": [
    "# plt.figure(figsize=(12,6))\n",
    "sns.boxplot(data=train, x='survived', y='fare')\n",
    "plt.show()"
   ]
  },
  {
   "cell_type": "code",
   "execution_count": 19,
   "id": "f9ed29ef",
   "metadata": {},
   "outputs": [
    {
     "data": {
      "text/plain": [
       "<AxesSubplot:xlabel='survived', ylabel='fare'>"
      ]
     },
     "execution_count": 19,
     "metadata": {},
     "output_type": "execute_result"
    },
    {
     "data": {
      "image/png": "[encoded data removed]",
      "text/plain": [
       "<Figure size 432x288 with 1 Axes>"
      ]
     },
     "metadata": {
      "needs_background": "light"
     },
     "output_type": "display_data"
    }
   ],
   "source": [
    "#better shows the density\n",
    "sns.violinplot(data=train, x='survived', y='fare')"
   ]
  },
  {
   "cell_type": "markdown",
   "id": "ea19ea97",
   "metadata": {},
   "source": [
    "Our categorical variable should be on our x-axis, since our x-axis is our unique violin or unique box, and we need to be able to see each unique value"
   ]
  },
  {
   "cell_type": "markdown",
   "id": "ebc14984",
   "metadata": {},
   "source": [
    "#### 3. Analyze (with statistics)"
   ]
  },
  {
   "cell_type": "markdown",
   "id": "d8041fc2",
   "metadata": {},
   "source": [
    "what type of test should i use for this?\n",
    "- ttest\n",
    "\n",
    "\n",
    "is my continuous value normally distributed?\n",
    "- no, so this means we cant use ttest\n",
    "\n",
    "\n",
    "am i comparing subpopulations to each other or a subpopulation to an overall population?\n",
    "- we are comparing subpopulations to each other\n",
    "\n",
    "A: mann-whitney\n",
    "\n"
   ]
  },
  {
   "cell_type": "markdown",
   "id": "b102fd8d",
   "metadata": {},
   "source": [
    "$H_0$: the mean of fare for people who survived and who didn't survive is the same\n",
    "\n",
    "$H_a$: the mean of fare for people who survived and who didn't survive is different\n",
    "\n",
    "alpha = 0.05"
   ]
  },
  {
   "cell_type": "code",
   "execution_count": 20,
   "id": "347a5412",
   "metadata": {},
   "outputs": [],
   "source": [
    "surv_no_fare = train [train.survived == 0].fare\n",
    "\n",
    "surv_yes_fare = train [train.survived == 1].fare"
   ]
  },
  {
   "cell_type": "code",
   "execution_count": 22,
   "id": "da26359e",
   "metadata": {},
   "outputs": [
    {
     "data": {
      "text/plain": [
       "(18893.0, 2.4211056747949507e-11)"
      ]
     },
     "execution_count": 22,
     "metadata": {},
     "output_type": "execute_result"
    }
   ],
   "source": [
    "t, p = stats.mannwhitneyu(surv_no_fare, surv_yes_fare)\n",
    "t, p"
   ]
  },
  {
   "cell_type": "code",
   "execution_count": 24,
   "id": "cb4e364d",
   "metadata": {},
   "outputs": [
    {
     "data": {
      "text/plain": [
       "(891, 13)"
      ]
     },
     "execution_count": 24,
     "metadata": {},
     "output_type": "execute_result"
    }
   ],
   "source": [
    "titanic_df.shape"
   ]
  },
  {
   "cell_type": "markdown",
   "id": "5620f598",
   "metadata": {},
   "source": [
    "We reject the null hypothesis"
   ]
  },
  {
   "cell_type": "markdown",
   "id": "0e8f8fb5",
   "metadata": {},
   "source": [
    "#### 4. Summarize"
   ]
  },
  {
   "cell_type": "markdown",
   "id": "4fd4fdb7",
   "metadata": {},
   "source": [
    "There is a difference in the fare for people who did survive and people who didn't survive"
   ]
  },
  {
   "cell_type": "markdown",
   "id": "0fb200f4",
   "metadata": {},
   "source": [
    "### Multivariate Stats\n",
    "-USE TRAIN DATASET ONLY-\n",
    "\n",
    "- can ask more targeted questions, like subgroup vs subgroup vs catergory\n",
    "- multivariate statistical tests exist, but are outside the scope of this course.\n",
    "\n",
    "1. Hypothesize\n",
    "2. Visualize\n",
    "3. ~Analyze (with statistics)~\n",
    "4. Summarize\n"
   ]
  },
  {
   "cell_type": "code",
   "execution_count": 25,
   "id": "b165470f",
   "metadata": {},
   "outputs": [
    {
     "data": {
      "text/html": [
       "<div>\n",
       "<style scoped>\n",
       "    .dataframe tbody tr th:only-of-type {\n",
       "        vertical-align: middle;\n",
       "    }\n",
       "\n",
       "    .dataframe tbody tr th {\n",
       "        vertical-align: top;\n",
       "    }\n",
       "\n",
       "    .dataframe thead th {\n",
       "        text-align: right;\n",
       "    }\n",
       "</style>\n",
       "<table border=\"1\" class=\"dataframe\">\n",
       "  <thead>\n",
       "    <tr style=\"text-align: right;\">\n",
       "      <th></th>\n",
       "      <th>survived</th>\n",
       "      <th>pclass</th>\n",
       "      <th>sex</th>\n",
       "      <th>age</th>\n",
       "      <th>sibsp</th>\n",
       "      <th>parch</th>\n",
       "      <th>fare</th>\n",
       "      <th>embark_town</th>\n",
       "      <th>alone</th>\n",
       "      <th>sex_male</th>\n",
       "      <th>embark_town_Queenstown</th>\n",
       "      <th>embark_town_Southampton</th>\n",
       "    </tr>\n",
       "  </thead>\n",
       "  <tbody>\n",
       "    <tr>\n",
       "      <th>583</th>\n",
       "      <td>0</td>\n",
       "      <td>1</td>\n",
       "      <td>male</td>\n",
       "      <td>36.000000</td>\n",
       "      <td>0</td>\n",
       "      <td>0</td>\n",
       "      <td>40.1250</td>\n",
       "      <td>Cherbourg</td>\n",
       "      <td>1</td>\n",
       "      <td>1</td>\n",
       "      <td>0</td>\n",
       "      <td>0</td>\n",
       "    </tr>\n",
       "    <tr>\n",
       "      <th>165</th>\n",
       "      <td>1</td>\n",
       "      <td>3</td>\n",
       "      <td>male</td>\n",
       "      <td>9.000000</td>\n",
       "      <td>0</td>\n",
       "      <td>2</td>\n",
       "      <td>20.5250</td>\n",
       "      <td>Southampton</td>\n",
       "      <td>0</td>\n",
       "      <td>1</td>\n",
       "      <td>0</td>\n",
       "      <td>1</td>\n",
       "    </tr>\n",
       "    <tr>\n",
       "      <th>50</th>\n",
       "      <td>0</td>\n",
       "      <td>3</td>\n",
       "      <td>male</td>\n",
       "      <td>7.000000</td>\n",
       "      <td>4</td>\n",
       "      <td>1</td>\n",
       "      <td>39.6875</td>\n",
       "      <td>Southampton</td>\n",
       "      <td>0</td>\n",
       "      <td>1</td>\n",
       "      <td>0</td>\n",
       "      <td>1</td>\n",
       "    </tr>\n",
       "    <tr>\n",
       "      <th>259</th>\n",
       "      <td>1</td>\n",
       "      <td>2</td>\n",
       "      <td>female</td>\n",
       "      <td>50.000000</td>\n",
       "      <td>0</td>\n",
       "      <td>1</td>\n",
       "      <td>26.0000</td>\n",
       "      <td>Southampton</td>\n",
       "      <td>0</td>\n",
       "      <td>0</td>\n",
       "      <td>0</td>\n",
       "      <td>1</td>\n",
       "    </tr>\n",
       "    <tr>\n",
       "      <th>306</th>\n",
       "      <td>1</td>\n",
       "      <td>1</td>\n",
       "      <td>female</td>\n",
       "      <td>29.678105</td>\n",
       "      <td>0</td>\n",
       "      <td>0</td>\n",
       "      <td>110.8833</td>\n",
       "      <td>Cherbourg</td>\n",
       "      <td>1</td>\n",
       "      <td>0</td>\n",
       "      <td>0</td>\n",
       "      <td>0</td>\n",
       "    </tr>\n",
       "  </tbody>\n",
       "</table>\n",
       "</div>"
      ],
      "text/plain": [
       "     survived  pclass     sex        age  sibsp  parch      fare  embark_town  \\\n",
       "583         0       1    male  36.000000      0      0   40.1250    Cherbourg   \n",
       "165         1       3    male   9.000000      0      2   20.5250  Southampton   \n",
       "50          0       3    male   7.000000      4      1   39.6875  Southampton   \n",
       "259         1       2  female  50.000000      0      1   26.0000  Southampton   \n",
       "306         1       1  female  29.678105      0      0  110.8833    Cherbourg   \n",
       "\n",
       "     alone  sex_male  embark_town_Queenstown  embark_town_Southampton  \n",
       "583      1         1                       0                        0  \n",
       "165      0         1                       0                        1  \n",
       "50       0         1                       0                        1  \n",
       "259      0         0                       0                        1  \n",
       "306      1         0                       0                        0  "
      ]
     },
     "execution_count": 25,
     "metadata": {},
     "output_type": "execute_result"
    }
   ],
   "source": [
    "train.head()"
   ]
  },
  {
   "cell_type": "markdown",
   "id": "60351b3d",
   "metadata": {},
   "source": [
    "#### 1. Hypothesize"
   ]
  },
  {
   "cell_type": "markdown",
   "id": "df2e049b",
   "metadata": {},
   "source": [
    "Q: do males have a greater chance of survival when traveling alone?\n",
    "\n",
    "- sex: categorical\n",
    "- alone: categorical\n",
    "- survive: categorical"
   ]
  },
  {
   "cell_type": "markdown",
   "id": "2dc4f373",
   "metadata": {},
   "source": [
    "#### 2. Visualize"
   ]
  },
  {
   "cell_type": "code",
   "execution_count": 26,
   "id": "c3e66532",
   "metadata": {},
   "outputs": [
    {
     "data": {
      "image/png": "[encoded data removed]",
      "text/plain": [
       "<Figure size 432x288 with 1 Axes>"
      ]
     },
     "metadata": {
      "needs_background": "light"
     },
     "output_type": "display_data"
    }
   ],
   "source": [
    "#just two variables\n",
    "sns.barplot(data=train, x='sex', y='survived')\n",
    "plt.show()"
   ]
  },
  {
   "cell_type": "code",
   "execution_count": 27,
   "id": "8e279157",
   "metadata": {},
   "outputs": [
    {
     "data": {
      "image/png": "[encoded data removed]",
      "text/plain": [
       "<Figure size 432x288 with 1 Axes>"
      ]
     },
     "metadata": {
      "needs_background": "light"
     },
     "output_type": "display_data"
    }
   ],
   "source": [
    "#using hue to show the third variable\n",
    "sns.barplot(data=train, x='sex', y='survived', hue='alone')\n",
    "plt.show()"
   ]
  },
  {
   "cell_type": "markdown",
   "id": "3b36f921",
   "metadata": {},
   "source": [
    "#### 3. Summarize"
   ]
  },
  {
   "cell_type": "markdown",
   "id": "f4649bb0",
   "metadata": {},
   "source": [
    "- females are more likely to survive\n",
    "- looks like men traveling alone survive less than men not traveling alone"
   ]
  },
  {
   "cell_type": "markdown",
   "id": "fa4bd2ff",
   "metadata": {},
   "source": [
    "## Explore Conclusions\n",
    "note: this is a summary of all of our takeaways in the explore section"
   ]
  },
  {
   "cell_type": "markdown",
   "id": "cc3a9abe",
   "metadata": {},
   "source": [
    "- passenger class affected survival rates\n",
    "- fare also affected survival rates\n",
    "- males survived way less than females, and were least likely to survive when traveling alone\n"
   ]
  },
  {
   "cell_type": "markdown",
   "id": "0d5cbb6b",
   "metadata": {},
   "source": [
    "### Final notes on exploring"
   ]
  },
  {
   "cell_type": "markdown",
   "id": "f9ec250e",
   "metadata": {},
   "source": [
    "How much time do you think it will take to explore all of your features and how they relate to your target variable? \n",
    "- a lot of time\n",
    "\n",
    "Therefore, you have to PRIORITIZE the features you want to compare\n",
    "- use your domain knowledge\n",
    "- you can also rotate your relationships with a for loop (at the beginning of explore)\n",
    "    - maybe look at a pairplot\n"
   ]
  },
  {
   "cell_type": "markdown",
   "id": "17f1ca29",
   "metadata": {},
   "source": [
    "### With more time, reiterate\n",
    "As you have more time, you can reiterate and go back through and investigate more features. \n",
    "\n",
    "Recall how we dropped the age column completetly since 20% of the values were missing? \n",
    "- add back that column \n",
    "    - maybe drop all the rows with nulls instead\n",
    "    - maybe try to replace those null values with some other value, maybe by group?\n",
    "- investigate how age affects survival now"
   ]
  },
  {
   "cell_type": "markdown",
   "id": "b884709e",
   "metadata": {},
   "source": [
    "### Make sure you're documenting takeaways throughout your exploration! "
   ]
  },
  {
   "cell_type": "code",
   "execution_count": null,
   "id": "3e706827",
   "metadata": {},
   "outputs": [],
   "source": []
  }
 ],
 "metadata": {
  "kernelspec": {
   "display_name": "Python 3 (ipykernel)",
   "language": "python",
   "name": "python3"
  },
  "language_info": {
   "codemirror_mode": {
    "name": "ipython",
    "version": 3
   },
   "file_extension": ".py",
   "mimetype": "text/x-python",
   "name": "python",
   "nbconvert_exporter": "python",
   "pygments_lexer": "ipython3",
   "version": "3.9.12"
  }
 },
 "nbformat": 4,
 "nbformat_minor": 5
}
